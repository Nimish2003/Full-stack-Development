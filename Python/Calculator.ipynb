{
 "cells": [
  {
   "cell_type": "code",
   "execution_count": 10,
   "id": "749b6999",
   "metadata": {},
   "outputs": [
    {
     "name": "stdout",
     "output_type": "stream",
     "text": [
      "Enter A:53\n",
      "Enter B:21\n",
      "+: Addition\n",
      "-: Subtraction\n",
      "*: Multiplication\n",
      "/: Divison\n",
      "%: Mod\n",
      "Select the operation to perform:+\n",
      "74\n"
     ]
    }
   ],
   "source": [
    "a = int(input(\"Enter A:\"))\n",
    "b = int(input(\"Enter B:\"))\n",
    "\n",
    "print(\"+: Addition\")\n",
    "print(\"-: Subtraction\")\n",
    "print(\"*: Multiplication\")\n",
    "print(\"/: Divison\")\n",
    "print(\"%: Mod\")\n",
    "\n",
    "sign = input(\"Select the operation to perform:\")\n",
    "\n",
    "if (sign == '+'):\n",
    "    print(a + b)\n",
    "elif(sign == '-'):\n",
    "    print(a - b)\n",
    "elif(sign == '*'):\n",
    "    print(a * b)\n",
    "elif(sign == '/'):\n",
    "     print(a / b)\n",
    "else:\n",
    "    print(a % b)\n",
    "            "
   ]
  },
  {
   "cell_type": "code",
   "execution_count": null,
   "id": "59055124",
   "metadata": {},
   "outputs": [],
   "source": []
  },
  {
   "cell_type": "code",
   "execution_count": null,
   "id": "16eb141c",
   "metadata": {},
   "outputs": [],
   "source": []
  },
  {
   "cell_type": "code",
   "execution_count": null,
   "id": "3912a1df",
   "metadata": {},
   "outputs": [],
   "source": []
  }
 ],
 "metadata": {
  "kernelspec": {
   "display_name": "Python 3 (ipykernel)",
   "language": "python",
   "name": "python3"
  },
  "language_info": {
   "codemirror_mode": {
    "name": "ipython",
    "version": 3
   },
   "file_extension": ".py",
   "mimetype": "text/x-python",
   "name": "python",
   "nbconvert_exporter": "python",
   "pygments_lexer": "ipython3",
   "version": "3.9.13"
  }
 },
 "nbformat": 4,
 "nbformat_minor": 5
}
