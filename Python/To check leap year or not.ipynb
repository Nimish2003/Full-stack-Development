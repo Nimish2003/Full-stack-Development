{
 "cells": [
  {
   "cell_type": "code",
   "execution_count": 2,
   "id": "3917e72f",
   "metadata": {},
   "outputs": [
    {
     "name": "stdout",
     "output_type": "stream",
     "text": [
      "Enter a year: 3000\n",
      "3000 is not a leap year.\n"
     ]
    }
   ],
   "source": [
    "def is_leap_year(year):\n",
    "    if (year%4==0 and year%100==0):\n",
    "        print(\"Is leap year\")\n",
    "    elif(year%100==0 and year%400==0):\n",
    "        print(\"not a leap year\")\n",
    "    elif(year%4==0 or year%400==0):\n",
    "        print(\"is a leap year\")\n",
    "    else:\n",
    "        print(\"Not a leap year\")\n",
    "\n",
    "year= int(input(\"Enter the year:\"))\n",
    "is_leap_year(year)"
   ]
  },
  {
   "cell_type": "code",
   "execution_count": 5,
   "id": "989d7b43",
   "metadata": {},
   "outputs": [
    {
     "data": {
      "text/plain": [
       "200"
      ]
     },
     "execution_count": 5,
     "metadata": {},
     "output_type": "execute_result"
    }
   ],
   "source": [
    "3000%400"
   ]
  },
  {
   "cell_type": "code",
   "execution_count": 30,
   "id": "dce2cdec",
   "metadata": {},
   "outputs": [
    {
     "name": "stdout",
     "output_type": "stream",
     "text": [
      "Enter the year:2020\n",
      "is a leap year\n"
     ]
    }
   ],
   "source": [
    "def is_leap_year(year):\n",
    "    if year % 4 == 0:\n",
    "        if year % 100 == 0:\n",
    "            if year % 400 == 0:\n",
    "                return True  # Divisible by 400, leap year\n",
    "            else:\n",
    "                return False  # Divisible by 100 but not by 400, not a leap year\n",
    "        else:\n",
    "            return True  # Divisible by 4 but not by 100, leap year\n",
    "    else:\n",
    "        return False  # Not divisible by 4, not a leap year\n",
    "\n",
    "\n",
    "# Testing the function\n",
    "year = int(input(\"Enter a year: \"))\n",
    "\n",
    "if is_leap_year(year):\n",
    "    print(year, \"is a leap year.\")\n",
    "else:\n",
    "    print(year, \"is not a leap year.\")"
   ]
  },
  {
   "cell_type": "code",
   "execution_count": 28,
   "id": "a3be328f",
   "metadata": {},
   "outputs": [
    {
     "data": {
      "text/plain": [
       "20"
      ]
     },
     "execution_count": 28,
     "metadata": {},
     "output_type": "execute_result"
    }
   ],
   "source": [
    "20"
   ]
  },
  {
   "cell_type": "code",
   "execution_count": null,
   "id": "ca40d8a7",
   "metadata": {},
   "outputs": [],
   "source": []
  }
 ],
 "metadata": {
  "kernelspec": {
   "display_name": "Python 3 (ipykernel)",
   "language": "python",
   "name": "python3"
  },
  "language_info": {
   "codemirror_mode": {
    "name": "ipython",
    "version": 3
   },
   "file_extension": ".py",
   "mimetype": "text/x-python",
   "name": "python",
   "nbconvert_exporter": "python",
   "pygments_lexer": "ipython3",
   "version": "3.9.13"
  }
 },
 "nbformat": 4,
 "nbformat_minor": 5
}
