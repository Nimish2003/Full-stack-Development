{
 "cells": [
  {
   "cell_type": "code",
   "execution_count": 5,
   "id": "f0226f52",
   "metadata": {},
   "outputs": [
    {
     "ename": "SyntaxError",
     "evalue": "invalid syntax (3286394669.py, line 6)",
     "output_type": "error",
     "traceback": [
      "\u001b[1;36m  File \u001b[1;32m\"C:\\Users\\Nimish Padwal\\AppData\\Local\\Temp\\ipykernel_16724\\3286394669.py\"\u001b[1;36m, line \u001b[1;32m6\u001b[0m\n\u001b[1;33m    match:\u001b[0m\n\u001b[1;37m          ^\u001b[0m\n\u001b[1;31mSyntaxError\u001b[0m\u001b[1;31m:\u001b[0m invalid syntax\n"
     ]
    }
   ],
   "source": [
    "a= int(input())\n",
    "b=int(input())\n",
    "argument= int(input(\"Enter a no.\"))\n",
    "\n",
    "def calculator (argument):\n",
    "    \n",
    "        case 0:\n",
    "            return a+b\n",
    "        case 1:\n",
    "            return a-b\n",
    "        \n",
    "operation=int(input())\n",
    "calculator(argument)\n",
    "        "
   ]
  },
  {
   "cell_type": "code",
   "execution_count": 1,
   "id": "764d8b3b",
   "metadata": {},
   "outputs": [
    {
     "ename": "SyntaxError",
     "evalue": "invalid syntax (810528468.py, line 3)",
     "output_type": "error",
     "traceback": [
      "\u001b[1;36m  File \u001b[1;32m\"C:\\Users\\Nimish Padwal\\AppData\\Local\\Temp\\ipykernel_16724\\810528468.py\"\u001b[1;36m, line \u001b[1;32m3\u001b[0m\n\u001b[1;33m    match argument:\u001b[0m\n\u001b[1;37m          ^\u001b[0m\n\u001b[1;31mSyntaxError\u001b[0m\u001b[1;31m:\u001b[0m invalid syntax\n"
     ]
    }
   ],
   "source": [
    "# This code runs only in python 3.10 or above versions\n",
    "def number_to_string(argument):\n",
    "\tmatch argument:\n",
    "\t\tcase 0:\n",
    "\t\t\treturn \"zero\"\n",
    "\t\tcase 1:\n",
    "\t\t\treturn \"one\"\n",
    "\t\tcase 2:\n",
    "\t\t\treturn \"two\"\n",
    "\t\tcase default:\n",
    "\t\t\treturn \"something\"\n",
    "\n",
    "\n",
    "if __name__ = \"__main__\":\n",
    "\targument = 0\n",
    "\tnumber_to_string(argument)\n"
   ]
  },
  {
   "cell_type": "code",
   "execution_count": null,
   "id": "eed258d7",
   "metadata": {},
   "outputs": [],
   "source": []
  }
 ],
 "metadata": {
  "kernelspec": {
   "display_name": "Python 3 (ipykernel)",
   "language": "python",
   "name": "python3"
  },
  "language_info": {
   "codemirror_mode": {
    "name": "ipython",
    "version": 3
   },
   "file_extension": ".py",
   "mimetype": "text/x-python",
   "name": "python",
   "nbconvert_exporter": "python",
   "pygments_lexer": "ipython3",
   "version": "3.9.13"
  }
 },
 "nbformat": 4,
 "nbformat_minor": 5
}
