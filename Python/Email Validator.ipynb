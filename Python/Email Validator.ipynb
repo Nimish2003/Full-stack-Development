{
 "cells": [
  {
   "cell_type": "code",
   "execution_count": 33,
   "id": "f524a601",
   "metadata": {},
   "outputs": [
    {
     "name": "stdout",
     "output_type": "stream",
     "text": [
      "Enter your Email:nimish88@gmail.com\n",
      "Email is valid\n"
     ]
    }
   ],
   "source": [
    "import re\n",
    "\n",
    "\n",
    "\n",
    "email = input(\"Enter your Email:\")\n",
    "pattern = r'^[a-zA-Z0-9._%+-]+@[a-zA-Z0-9.-]+[a-zA-Z]$'\n",
    "matchobj = re.match(pattern, email)\n",
    "\n",
    "if matchobj:\n",
    "    print(\"Email is valid\")\n",
    "else :\n",
    "    print(\"Email is not valid\")"
   ]
  },
  {
   "cell_type": "code",
   "execution_count": null,
   "id": "28adedb4",
   "metadata": {},
   "outputs": [],
   "source": []
  },
  {
   "cell_type": "code",
   "execution_count": null,
   "id": "85fe75f4",
   "metadata": {},
   "outputs": [],
   "source": []
  }
 ],
 "metadata": {
  "kernelspec": {
   "display_name": "Python 3 (ipykernel)",
   "language": "python",
   "name": "python3"
  },
  "language_info": {
   "codemirror_mode": {
    "name": "ipython",
    "version": 3
   },
   "file_extension": ".py",
   "mimetype": "text/x-python",
   "name": "python",
   "nbconvert_exporter": "python",
   "pygments_lexer": "ipython3",
   "version": "3.9.13"
  }
 },
 "nbformat": 4,
 "nbformat_minor": 5
}
